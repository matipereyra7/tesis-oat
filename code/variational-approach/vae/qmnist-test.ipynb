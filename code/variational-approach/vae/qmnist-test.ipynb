{
 "cells": [
  {
   "cell_type": "code",
   "execution_count": 1,
   "metadata": {
    "_cell_guid": "b1076dfc-b9ad-4769-8c92-a6c4dae69d19",
    "_uuid": "8f2839f25d086af736a60e9eeb907d3b93b6e0e5",
    "execution": {
     "iopub.execute_input": "2022-05-21T17:23:28.673680Z",
     "iopub.status.busy": "2022-05-21T17:23:28.673329Z",
     "iopub.status.idle": "2022-05-21T17:23:28.710522Z",
     "shell.execute_reply": "2022-05-21T17:23:28.709574Z",
     "shell.execute_reply.started": "2022-05-21T17:23:28.673585Z"
    }
   },
   "outputs": [],
   "source": [
    "# This Python 3 environment comes with many helpful analytics libraries installed\n",
    "# It is defined by the kaggle/python Docker image: https://github.com/kaggle/docker-python\n",
    "# For example, here's several helpful packages to load\n",
    "\n",
    "import numpy as np # linear algebra\n",
    "import pandas as pd # data processing, CSV file I/O (e.g. pd.read_csv)\n",
    "\n",
    "# Input data files are available in the read-only \"../input/\" directory\n",
    "# For example, running this (by clicking run or pressing Shift+Enter) will list all files under the input directory\n",
    "\n",
    "import os\n",
    "for dirname, _, filenames in os.walk('/kaggle/input'):\n",
    "    for filename in filenames:\n",
    "        print(os.path.join(dirname, filename))\n",
    "\n",
    "# You can write up to 20GB to the current directory (/kaggle/working/) that gets preserved as output when you create a version using \"Save & Run All\" \n",
    "# You can also write temporary files to /kaggle/temp/, but they won't be saved outside of the current session"
   ]
  },
  {
   "cell_type": "code",
   "execution_count": 28,
   "metadata": {
    "execution": {
     "iopub.execute_input": "2022-05-21T17:53:41.469050Z",
     "iopub.status.busy": "2022-05-21T17:53:41.468740Z",
     "iopub.status.idle": "2022-05-21T17:53:41.477529Z",
     "shell.execute_reply": "2022-05-21T17:53:41.476242Z",
     "shell.execute_reply.started": "2022-05-21T17:53:41.469016Z"
    }
   },
   "outputs": [],
   "source": [
    "import pickle\n",
    "import tensorflow as tf\n",
    "import numpy as np\n",
    "from tensorflow import keras\n",
    "from tensorflow.keras import layers\n",
    "import matplotlib.pyplot as plt"
   ]
  },
  {
   "cell_type": "markdown",
   "metadata": {},
   "source": [
    "# Reusing Keras VAE code"
   ]
  },
  {
   "cell_type": "code",
   "execution_count": 29,
   "metadata": {
    "execution": {
     "iopub.execute_input": "2022-05-21T17:53:42.138013Z",
     "iopub.status.busy": "2022-05-21T17:53:42.137097Z",
     "iopub.status.idle": "2022-05-21T17:53:42.457116Z",
     "shell.execute_reply": "2022-05-21T17:53:42.456371Z",
     "shell.execute_reply.started": "2022-05-21T17:53:42.137975Z"
    }
   },
   "outputs": [],
   "source": [
    "class Sampling(layers.Layer):\n",
    "    \"\"\"Uses (z_mean, z_log_var) to sample z, the vector encoding a digit.\"\"\"\n",
    "\n",
    "    def call(self, inputs) -> tf.Tensor:\n",
    "        # inputs is the tensor of shape (batch_size, d0, d1,...)\n",
    "        # In this case, the shape is -> (batch_size, 2)\n",
    "        z_mean, z_log_var = inputs\n",
    "        batch = tf.shape(z_mean)[0]  # batch_size\n",
    "        dim = tf.shape(z_mean)[1]    # 2\n",
    "        epsilon = tf.keras.backend.random_normal(shape=(batch, dim))\n",
    "        return z_mean + epsilon * tf.exp(0.5 * z_log_var)           # mu + sqrt(var) * epsilon\n",
    "\n",
    "################ ENCODER ################\n",
    "latent_dim = 2\n",
    "\n",
    "encoder_inputs = keras.Input(shape=(28, 28, 1))\n",
    "x = layers.Conv2D(32, kernel_size=3, activation=\"relu\", padding=\"same\")(encoder_inputs)\n",
    "x = layers.Conv2D(64, kernel_size=3, activation=\"relu\", padding=\"same\", strides=(2,2))(x)\n",
    "x = layers.Conv2D(64, kernel_size=3, activation=\"relu\", padding=\"same\")(x)\n",
    "x = layers.Conv2D(64, kernel_size=3, activation=\"relu\", padding=\"same\")(x)\n",
    "x = layers.Flatten()(x)\n",
    "x = layers.Dense(16, activation=\"relu\")(x)\n",
    "\n",
    "# Pass this last layer's output to both mean layer and variance layer\n",
    "z_mean = layers.Dense(latent_dim, name=\"z_mean\")(x)\n",
    "z_log_var = layers.Dense(latent_dim, name=\"z_log_var\")(x)\n",
    "\n",
    "# Sampling layer takes the mean and variance as tensor inputs\n",
    "z = Sampling()([z_mean, z_log_var])\n",
    "encoder = keras.Model(encoder_inputs, [z_mean, z_log_var, z], name=\"encoder\")\n",
    "\n",
    "################ DECODER ################\n",
    "latent_inputs = keras.Input(shape=(latent_dim,))\n",
    "x = layers.Dense(7 * 7 * 64, activation=\"relu\")(latent_inputs)  # arbitrary units\n",
    "x = layers.Reshape((7, 7, 64))(x)\n",
    "x = layers.Conv2DTranspose(64, 3, activation=\"relu\", strides=2, padding=\"same\")(x)\n",
    "x = layers.Conv2DTranspose(32, 3, activation=\"relu\", strides=2, padding=\"same\")(x)\n",
    "\n",
    "# Last layer reduces color channels to 1\n",
    "decoder_outputs = layers.Conv2DTranspose(1, 3, activation=\"sigmoid\", padding=\"same\")(x)\n",
    "decoder = keras.Model(latent_inputs, decoder_outputs, name=\"decoder\")"
   ]
  },
  {
   "cell_type": "markdown",
   "metadata": {},
   "source": [
    "## Define the VAE as a Model with a custom train_step"
   ]
  },
  {
   "cell_type": "code",
   "execution_count": 55,
   "metadata": {
    "execution": {
     "iopub.execute_input": "2022-05-21T18:10:29.033078Z",
     "iopub.status.busy": "2022-05-21T18:10:29.030989Z",
     "iopub.status.idle": "2022-05-21T18:10:29.057950Z",
     "shell.execute_reply": "2022-05-21T18:10:29.056767Z",
     "shell.execute_reply.started": "2022-05-21T18:10:29.033035Z"
    }
   },
   "outputs": [],
   "source": [
    "kl_term = 1e0\n",
    "\n",
    "class VAE(keras.Model):\n",
    "    def __init__(self, encoder, decoder, **kwargs):\n",
    "        super(VAE, self).__init__(**kwargs)\n",
    "        self.encoder = encoder\n",
    "        self.decoder = decoder\n",
    "        self.total_loss_tracker = keras.metrics.Mean(name=\"total_loss\")\n",
    "        self.reconstruction_loss_tracker = keras.metrics.Mean(\n",
    "            name=\"reconstruction_loss\"\n",
    "        )\n",
    "        self.kl_loss_tracker = keras.metrics.Mean(name=\"kl_loss\")\n",
    "\n",
    "    @property\n",
    "    def metrics(self):\n",
    "        return [\n",
    "            self.total_loss_tracker,\n",
    "            self.reconstruction_loss_tracker,\n",
    "            self.kl_loss_tracker\n",
    "        ]\n",
    "\n",
    "    def train_step(self, data):\n",
    "        with tf.GradientTape() as tape:\n",
    "            # Get the outputs of the first part of the model, the encoder\n",
    "            # Outputs are:\n",
    "            #              - mu\n",
    "            #              - log variance\n",
    "            #              - z = latent sampled vector\n",
    "            z_mean, z_log_var, z = self.encoder(data)\n",
    "            \n",
    "            # Decode z\n",
    "            reconstruction = self.decoder(z)\n",
    "            \n",
    "            # Recon loss\n",
    "            reconstruction_loss = tf.reduce_mean(\n",
    "                tf.reduce_sum(\n",
    "                    keras.losses.binary_crossentropy(data, reconstruction), axis=(1, 2)\n",
    "                )\n",
    "            )\n",
    "            # KL loss between a normal distribution N(mu, sigma) and N(0,1) --> D( N(mu,sigma) || N(0,1))\n",
    "            kl_loss = -0.5 * (1 + z_log_var - tf.square(z_mean) - tf.exp(z_log_var))\n",
    "            kl_loss = tf.reduce_mean(tf.reduce_sum(kl_loss, axis=1))\n",
    "            total_loss = reconstruction_loss + kl_term * kl_loss\n",
    "        \n",
    "        # Get computed grqdients\n",
    "        grads = tape.gradient(total_loss, self.trainable_weights)\n",
    "        \n",
    "        # Pass the gradients and the trainable_weights to the optimizer\n",
    "        self.optimizer.apply_gradients(zip(grads, self.trainable_weights))  # self.trainable_weight is also returned by self.trainable_variables(https://github.com/tensorflow/tensorflow/blob/285c6a0fa1d5a3d2a96507ac9f707ce5c0e3ac1f/tensorflow/python/layers/base.py#L183)\n",
    "        \n",
    "        # Update state of loss functions\n",
    "        self.total_loss_tracker.update_state(total_loss)\n",
    "        self.reconstruction_loss_tracker.update_state(reconstruction_loss)\n",
    "        self.kl_loss_tracker.update_state(kl_loss)\n",
    "        return {\n",
    "            \"loss\": self.total_loss_tracker.result(),\n",
    "            \"reconstruction_loss\": self.reconstruction_loss_tracker.result(),\n",
    "            \"kl_loss\": self.kl_loss_tracker.result()\n",
    "        }"
   ]
  },
  {
   "cell_type": "code",
   "execution_count": 57,
   "metadata": {
    "execution": {
     "iopub.execute_input": "2022-05-21T18:13:19.326662Z",
     "iopub.status.busy": "2022-05-21T18:13:19.325559Z",
     "iopub.status.idle": "2022-05-21T18:13:19.662341Z",
     "shell.execute_reply": "2022-05-21T18:13:19.661342Z",
     "shell.execute_reply.started": "2022-05-21T18:13:19.326585Z"
    }
   },
   "outputs": [],
   "source": [
    "# Load data\n",
    "def unpickle(file):\n",
    "    import pickle\n",
    "    with open(file, 'rb') as fo:\n",
    "        a_dict = pickle.load(fo, encoding='bytes')\n",
    "    return a_dict\n",
    "qmnist = unpickle(\"/kaggle/input/qmnist-the-extended-mnist-dataset-120k-images/MNIST-120k\")  # dict\n",
    "\n",
    "print(qmnist.keys())\n",
    "print(len(qmnist['data']))\n",
    "print(qmnist['data'].shape)\n",
    "print(qmnist['data'][0].shape)"
   ]
  },
  {
   "cell_type": "code",
   "execution_count": 58,
   "metadata": {
    "execution": {
     "iopub.execute_input": "2022-05-21T18:13:28.299722Z",
     "iopub.status.busy": "2022-05-21T18:13:28.299409Z",
     "iopub.status.idle": "2022-05-21T18:13:28.480139Z",
     "shell.execute_reply": "2022-05-21T18:13:28.479041Z",
     "shell.execute_reply.started": "2022-05-21T18:13:28.299688Z"
    }
   },
   "outputs": [],
   "source": [
    "plt.imshow(qmnist['data'][1])"
   ]
  },
  {
   "cell_type": "code",
   "execution_count": null,
   "metadata": {
    "execution": {
     "iopub.execute_input": "2022-05-21T18:13:29.473891Z",
     "iopub.status.busy": "2022-05-21T18:13:29.473614Z"
    }
   },
   "outputs": [],
   "source": [
    "mnist_digits = qmnist['data']\n",
    "\n",
    "# Normalize\n",
    "mnist_digits = mnist_digits.astype('float32')\n",
    "mnist_digits = mnist_digits / 255\n",
    "\n",
    "shape = mnist_digits.shape\n",
    "\n",
    "mnist_digits = mnist_digits.reshape(shape[0], shape[1], shape[2], 1)  # (120000, 28,28,1)--> has 1 color channel\n",
    "vae = VAE(encoder, decoder)\n",
    "vae.compile(optimizer=keras.optimizers.Adam())\n",
    "history = vae.fit(mnist_digits, epochs=30, batch_size=128)"
   ]
  },
  {
   "cell_type": "code",
   "execution_count": null,
   "metadata": {},
   "outputs": [],
   "source": [
    "def plot_latent_space(vae, n=30, figsize=15):\n",
    "    # display a n*n 2D manifold of digits\n",
    "    digit_size = 28\n",
    "    scale = 1.0\n",
    "    figure = np.zeros((digit_size * n, digit_size * n))\n",
    "    # linearly spaced coordinates corresponding to the 2D plot\n",
    "    # of digit classes in the latent space\n",
    "    grid_x = np.linspace(-scale, scale, n)\n",
    "    grid_y = np.linspace(-scale, scale, n)[::-1]\n",
    "\n",
    "    for i, yi in enumerate(grid_y):\n",
    "        for j, xi in enumerate(grid_x):\n",
    "            z_sample = np.array([[xi, yi]])\n",
    "            x_decoded = vae.decoder.predict(z_sample)\n",
    "            digit = x_decoded[0].reshape(digit_size, digit_size)\n",
    "            figure[\n",
    "                i * digit_size : (i + 1) * digit_size,\n",
    "                j * digit_size : (j + 1) * digit_size,\n",
    "            ] = digit\n",
    "\n",
    "    plt.figure(figsize=(figsize, figsize))\n",
    "    start_range = digit_size // 2\n",
    "    end_range = n * digit_size + start_range\n",
    "    pixel_range = np.arange(start_range, end_range, digit_size)\n",
    "    sample_range_x = np.round(grid_x, 1)\n",
    "    sample_range_y = np.round(grid_y, 1)\n",
    "    plt.xticks(pixel_range, sample_range_x)\n",
    "    plt.yticks(pixel_range, sample_range_y)\n",
    "    plt.xlabel(\"z[0]\")\n",
    "    plt.ylabel(\"z[1]\")\n",
    "    plt.imshow(figure, cmap=\"Greys_r\")\n",
    "    plt.show()\n",
    "\n",
    "\n",
    "plot_latent_space(vae)"
   ]
  },
  {
   "cell_type": "code",
   "execution_count": null,
   "metadata": {},
   "outputs": [],
   "source": [
    "def plot_label_clusters(vae, data, labels):\n",
    "    # display a 2D plot of the digit classes in the latent space\n",
    "    z_mean, _, _ = vae.encoder.predict(data)\n",
    "    plt.figure(figsize=(12, 10))\n",
    "    plt.scatter(z_mean[:, 0], z_mean[:, 1], c=labels)\n",
    "    plt.colorbar()\n",
    "    plt.xlabel(\"z[0]\")\n",
    "    plt.ylabel(\"z[1]\")\n",
    "    plt.show()\n",
    "\n",
    "\n",
    "\n",
    "plot_label_clusters(vae, mnist_digits, qmnist['labels'])"
   ]
  },
  {
   "cell_type": "code",
   "execution_count": null,
   "metadata": {},
   "outputs": [],
   "source": []
  }
 ],
 "metadata": {
  "kernelspec": {
   "display_name": "Python 3",
   "language": "python",
   "name": "python3"
  },
  "language_info": {
   "codemirror_mode": {
    "name": "ipython",
    "version": 3
   },
   "file_extension": ".py",
   "mimetype": "text/x-python",
   "name": "python",
   "nbconvert_exporter": "python",
   "pygments_lexer": "ipython3",
   "version": "3.8.3"
  }
 },
 "nbformat": 4,
 "nbformat_minor": 4
}
